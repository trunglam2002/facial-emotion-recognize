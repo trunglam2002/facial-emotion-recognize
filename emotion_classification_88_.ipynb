{
  "nbformat": 4,
  "nbformat_minor": 0,
  "metadata": {
    "colab": {
      "provenance": [],
      "gpuType": "T4"
    },
    "kernelspec": {
      "name": "python3",
      "display_name": "Python 3"
    },
    "language_info": {
      "name": "python"
    },
    "accelerator": "GPU"
  },
  "cells": [
    {
      "cell_type": "code",
      "source": [
        "!pip install torch_geometric"
      ],
      "metadata": {
        "colab": {
          "base_uri": "https://localhost:8080/"
        },
        "id": "Epmuu3E3wEq2",
        "outputId": "329da8b0-edbd-4d63-ebd8-bfa968d072ee"
      },
      "execution_count": null,
      "outputs": [
        {
          "output_type": "stream",
          "name": "stdout",
          "text": [
            "Requirement already satisfied: torch_geometric in /usr/local/lib/python3.10/dist-packages (2.4.0)\n",
            "Requirement already satisfied: tqdm in /usr/local/lib/python3.10/dist-packages (from torch_geometric) (4.66.1)\n",
            "Requirement already satisfied: numpy in /usr/local/lib/python3.10/dist-packages (from torch_geometric) (1.23.5)\n",
            "Requirement already satisfied: scipy in /usr/local/lib/python3.10/dist-packages (from torch_geometric) (1.11.4)\n",
            "Requirement already satisfied: jinja2 in /usr/local/lib/python3.10/dist-packages (from torch_geometric) (3.1.2)\n",
            "Requirement already satisfied: requests in /usr/local/lib/python3.10/dist-packages (from torch_geometric) (2.31.0)\n",
            "Requirement already satisfied: pyparsing in /usr/local/lib/python3.10/dist-packages (from torch_geometric) (3.1.1)\n",
            "Requirement already satisfied: scikit-learn in /usr/local/lib/python3.10/dist-packages (from torch_geometric) (1.2.2)\n",
            "Requirement already satisfied: psutil>=5.8.0 in /usr/local/lib/python3.10/dist-packages (from torch_geometric) (5.9.5)\n",
            "Requirement already satisfied: MarkupSafe>=2.0 in /usr/local/lib/python3.10/dist-packages (from jinja2->torch_geometric) (2.1.3)\n",
            "Requirement already satisfied: charset-normalizer<4,>=2 in /usr/local/lib/python3.10/dist-packages (from requests->torch_geometric) (3.3.2)\n",
            "Requirement already satisfied: idna<4,>=2.5 in /usr/local/lib/python3.10/dist-packages (from requests->torch_geometric) (3.6)\n",
            "Requirement already satisfied: urllib3<3,>=1.21.1 in /usr/local/lib/python3.10/dist-packages (from requests->torch_geometric) (2.0.7)\n",
            "Requirement already satisfied: certifi>=2017.4.17 in /usr/local/lib/python3.10/dist-packages (from requests->torch_geometric) (2023.11.17)\n",
            "Requirement already satisfied: joblib>=1.1.1 in /usr/local/lib/python3.10/dist-packages (from scikit-learn->torch_geometric) (1.3.2)\n",
            "Requirement already satisfied: threadpoolctl>=2.0.0 in /usr/local/lib/python3.10/dist-packages (from scikit-learn->torch_geometric) (3.2.0)\n"
          ]
        }
      ]
    },
    {
      "cell_type": "code",
      "source": [
        "from google.colab import drive\n",
        "drive.mount('/content/drive')"
      ],
      "metadata": {
        "id": "FNMVSbDbtuQD",
        "colab": {
          "base_uri": "https://localhost:8080/"
        },
        "outputId": "cb0acd28-7fb8-487f-bbaf-2a1376f4f4d4"
      },
      "execution_count": null,
      "outputs": [
        {
          "output_type": "stream",
          "name": "stdout",
          "text": [
            "Drive already mounted at /content/drive; to attempt to forcibly remount, call drive.mount(\"/content/drive\", force_remount=True).\n"
          ]
        }
      ]
    },
    {
      "cell_type": "code",
      "source": [
        "import pickle\n",
        "import torch\n",
        "import torch.optim as optim\n",
        "import torch.nn as nn\n",
        "from sklearn.metrics import accuracy_score\n",
        "from torch.utils.data import DataLoader\n",
        "import networkx as nx\n",
        "import tensorflow as tf\n",
        "import numpy as np\n",
        "from tensorflow.keras import layers, models\n",
        "from torch_geometric.utils.convert import from_networkx\n",
        "from tqdm import tqdm\n",
        "from torch_geometric.loader import DataLoader\n",
        "from torch_geometric.data import Data"
      ],
      "metadata": {
        "id": "eVHHTbelvvBN"
      },
      "execution_count": null,
      "outputs": []
    },
    {
      "cell_type": "code",
      "source": [
        "%cd /content/drive/MyDrive/emotion_data_preprocessed\n",
        "from model1 import DirectionalGraphNeuralNetwork\n",
        "%cd /content"
      ],
      "metadata": {
        "colab": {
          "base_uri": "https://localhost:8080/"
        },
        "id": "BBuuToHPf0uN",
        "outputId": "ae62e8ee-5a2d-48a9-d602-d6eee5884dad"
      },
      "execution_count": null,
      "outputs": [
        {
          "output_type": "stream",
          "name": "stdout",
          "text": [
            "/content/drive/MyDrive/emotion_data_preprocessed\n",
            "/content\n"
          ]
        }
      ]
    },
    {
      "cell_type": "code",
      "source": [
        "# Đầu vào và đầu ra của mô hình\n",
        "num_node_features = 1  # Thay thế bằng số đặc trưng của mỗi đỉnh\n",
        "num_edge_features = 1  # Thay thế bằng số đặc trưng của mỗi cạnh\n",
        "num_classes = 7  # Thay thế bằng số lớp đầu ra tương ứng với nhiệm vụ của bạn\n",
        "\n",
        "# Tạo mô hình DGNN\n",
        "dgnn_model = DirectionalGraphNeuralNetwork(\n",
        "    num_node_features, num_edge_features, num_classes)\n",
        "print(dgnn_model)"
      ],
      "metadata": {
        "id": "toPYXolhAKYg",
        "colab": {
          "base_uri": "https://localhost:8080/"
        },
        "outputId": "131559be-d8d9-4c71-be8c-ad47cfb294dd"
      },
      "execution_count": null,
      "outputs": [
        {
          "output_type": "stream",
          "name": "stdout",
          "text": [
            "DirectionalGraphNeuralNetwork(\n",
            "  (block1): DirectionalGraphNeuralNetworkBlock(\n",
            "    (graph_conv): DirectionalGraphConvolution(\n",
            "      (conv): GCNConv(1, 64)\n",
            "    )\n",
            "  )\n",
            "  (block2): DirectionalGraphNeuralNetworkBlock(\n",
            "    (graph_conv): DirectionalGraphConvolution(\n",
            "      (conv): GCNConv(64, 64)\n",
            "    )\n",
            "  )\n",
            "  (block3): DirectionalGraphNeuralNetworkBlock(\n",
            "    (graph_conv): DirectionalGraphConvolution(\n",
            "      (conv): GCNConv(64, 128)\n",
            "    )\n",
            "  )\n",
            "  (block4): DirectionalGraphNeuralNetworkBlock(\n",
            "    (graph_conv): DirectionalGraphConvolution(\n",
            "      (conv): GCNConv(128, 128)\n",
            "    )\n",
            "  )\n",
            "  (block5): DirectionalGraphNeuralNetworkBlock(\n",
            "    (graph_conv): DirectionalGraphConvolution(\n",
            "      (conv): GCNConv(128, 256)\n",
            "    )\n",
            "  )\n",
            "  (block6): DirectionalGraphNeuralNetworkBlock(\n",
            "    (graph_conv): DirectionalGraphConvolution(\n",
            "      (conv): GCNConv(256, 256)\n",
            "    )\n",
            "  )\n",
            "  (block7): DirectionalGraphNeuralNetworkBlock(\n",
            "    (graph_conv): DirectionalGraphConvolution(\n",
            "      (conv): GCNConv(256, 512)\n",
            "    )\n",
            "  )\n",
            "  (block8): DirectionalGraphNeuralNetworkBlock(\n",
            "    (graph_conv): DirectionalGraphConvolution(\n",
            "      (conv): GCNConv(512, 512)\n",
            "    )\n",
            "  )\n",
            "  (fc1): Linear(in_features=512, out_features=128, bias=True)\n",
            "  (dropout): Dropout(p=0.5, inplace=False)\n",
            "  (fc2): Linear(in_features=128, out_features=7, bias=True)\n",
            ")\n"
          ]
        }
      ]
    },
    {
      "cell_type": "code",
      "source": [
        "with open('/content/drive/MyDrive/emotion_data_preprocessed/data_dict.pkl', 'rb') as file:\n",
        "    loaded_data_dict = pickle.load(file)\n",
        "\n",
        "print(len(loaded_data_dict['train']['images']))"
      ],
      "metadata": {
        "id": "hEh7dV5du2mE",
        "colab": {
          "base_uri": "https://localhost:8080/"
        },
        "outputId": "04e885fe-827a-4d36-a957-b1d7169783f2"
      },
      "execution_count": null,
      "outputs": [
        {
          "output_type": "stream",
          "name": "stdout",
          "text": [
            "9520\n"
          ]
        }
      ]
    },
    {
      "cell_type": "code",
      "source": [
        "def compute_node_feature(graph_list, set_name):\n",
        "    node_features_list = []\n",
        "    for i, graph in enumerate(tqdm(graph_list, desc=f\"Computing node features for {set_name} set\", unit=\"graph\")):\n",
        "        # Assuming you want to use the 'nodes' attribute for node features\n",
        "        node_feature = torch.tensor(graph.nodes, dtype=torch.float32).view(1, -1).t()\n",
        "        node_features_list.append(node_feature)\n",
        "    return node_features_list"
      ],
      "metadata": {
        "id": "GCNADyb3fF8Q"
      },
      "execution_count": null,
      "outputs": []
    },
    {
      "cell_type": "code",
      "source": [
        "# Compute node features for the training set\n",
        "node_features_train = compute_node_feature(loaded_data_dict['train']['images'], 'training')\n",
        "\n",
        "# Compute node features for the validation set\n",
        "node_features_valid = compute_node_feature(loaded_data_dict['valid']['images'], 'validation')\n",
        "\n",
        "# Compute node features for the test set\n",
        "node_features_test = compute_node_feature(loaded_data_dict['test']['images'], 'testing')"
      ],
      "metadata": {
        "colab": {
          "base_uri": "https://localhost:8080/"
        },
        "id": "S9RbSORL-p0G",
        "outputId": "3f41a8cf-9e96-45b0-d960-0e452cabb746"
      },
      "execution_count": null,
      "outputs": [
        {
          "output_type": "stream",
          "name": "stderr",
          "text": [
            "Computing node features for training set: 100%|██████████| 9520/9520 [00:00<00:00, 55441.39graph/s]\n",
            "Computing node features for validation set: 100%|██████████| 2688/2688 [00:00<00:00, 53853.52graph/s]\n",
            "Computing node features for testing set: 100%|██████████| 1386/1386 [00:00<00:00, 52083.08graph/s]\n"
          ]
        }
      ]
    },
    {
      "cell_type": "code",
      "source": [
        "def convert_and_print_progress(graph_list, set_name):\n",
        "    pyg_graphs_list = []\n",
        "    for i, graph in enumerate(tqdm(graph_list, desc=f\"Converting {set_name} set\")):\n",
        "        pyg_graph = from_networkx(graph)\n",
        "        pyg_graphs_list.append(pyg_graph)\n",
        "    return pyg_graphs_list\n"
      ],
      "metadata": {
        "id": "gxwVvr3ia0WT"
      },
      "execution_count": null,
      "outputs": []
    },
    {
      "cell_type": "code",
      "source": [
        "# Convert all graphs to PyTorch Geometric format for the training set\n",
        "pyg_graphs_train = convert_and_print_progress(loaded_data_dict['train']['images'], 'training')\n",
        "\n",
        "# Convert all graphs to PyTorch Geometric format for the validation set\n",
        "pyg_graphs_valid = convert_and_print_progress(loaded_data_dict['valid']['images'], 'validation')\n",
        "\n",
        "# Convert all graphs to PyTorch Geometric format for the test set\n",
        "pyg_graphs_test = convert_and_print_progress(loaded_data_dict['test']['images'], 'testing')"
      ],
      "metadata": {
        "id": "U1bq4xyDoIa3",
        "colab": {
          "base_uri": "https://localhost:8080/"
        },
        "outputId": "a7a42511-880a-4073-d084-ce8cb1c238ce"
      },
      "execution_count": null,
      "outputs": [
        {
          "output_type": "stream",
          "name": "stderr",
          "text": [
            "Converting training set: 100%|██████████| 9520/9520 [02:00<00:00, 78.94it/s]\n",
            "Converting validation set: 100%|██████████| 2688/2688 [00:33<00:00, 80.96it/s]\n",
            "Converting testing set: 100%|██████████| 1386/1386 [00:18<00:00, 75.48it/s]\n"
          ]
        }
      ]
    },
    {
      "cell_type": "code",
      "source": [
        "def extract_edge_info_with_progress(graph_list, set_name):\n",
        "    all_edge_index = []\n",
        "    all_edge_weight = []\n",
        "\n",
        "    for i, graph in enumerate(tqdm(graph_list, desc=f\"Extracting edge information for {set_name}\", unit=\"graph\")):\n",
        "        # Assuming each graph is a networkx graph\n",
        "        edge_index = torch.tensor(list(graph.edges)).t().contiguous()\n",
        "        edge_weight = torch.tensor([graph[u][v]['weight'] for u, v in graph.edges], dtype=torch.float32)\n",
        "\n",
        "        all_edge_index.append(edge_index)\n",
        "        all_edge_weight.append(edge_weight)\n",
        "\n",
        "    return all_edge_index, all_edge_weight"
      ],
      "metadata": {
        "id": "PNVmXINJlI-_"
      },
      "execution_count": null,
      "outputs": []
    },
    {
      "cell_type": "code",
      "source": [
        "# Example usage\n",
        "train_edge_index, train_edge_weight = extract_edge_info_with_progress(loaded_data_dict['train']['images'], 'training')\n",
        "valid_edge_index, valid_edge_weight = extract_edge_info_with_progress(loaded_data_dict['valid']['images'], 'validation')\n",
        "test_edge_index, test_edge_weight = extract_edge_info_with_progress(loaded_data_dict['test']['images'], 'testing')"
      ],
      "metadata": {
        "id": "-ATr0cdPlNhn",
        "colab": {
          "base_uri": "https://localhost:8080/"
        },
        "outputId": "e0e33a2a-b5b5-4bf9-a760-cb5a2014102b"
      },
      "execution_count": null,
      "outputs": [
        {
          "output_type": "stream",
          "name": "stderr",
          "text": [
            "Extracting edge information for training: 100%|██████████| 9520/9520 [00:10<00:00, 930.24graph/s] \n",
            "Extracting edge information for validation: 100%|██████████| 2688/2688 [00:02<00:00, 1159.98graph/s]\n",
            "Extracting edge information for testing: 100%|██████████| 1386/1386 [00:01<00:00, 1164.03graph/s]\n"
          ]
        }
      ]
    },
    {
      "cell_type": "code",
      "source": [
        "def convert_labels_to_one_hot(label_list, num_classes, set_name):\n",
        "    tensor_list = []\n",
        "    for i, label in enumerate(tqdm(label_list, desc=f\"Converting labels to one-hot tensors for {set_name}\", unit=\"label\")):\n",
        "        # Assuming label is a single number representing the class index\n",
        "        one_hot_label = [1 if j == label else 0 for j in range(num_classes)]\n",
        "        tensor = torch.tensor(one_hot_label, dtype=torch.float32).view(1, -1)\n",
        "        tensor_list.append(tensor)\n",
        "    return tensor_list"
      ],
      "metadata": {
        "id": "xtOa-iJeYNvy"
      },
      "execution_count": null,
      "outputs": []
    },
    {
      "cell_type": "code",
      "source": [
        "num_classes = 7  # Replace with the actual number of classes\n",
        "labels_train_tensor = convert_labels_to_one_hot(loaded_data_dict['train']['labels'], num_classes, 'training')\n",
        "labels_test_tensor = convert_labels_to_one_hot(loaded_data_dict['test']['labels'], num_classes, 'testing')\n",
        "labels_valid_tensor = convert_labels_to_one_hot(loaded_data_dict['valid']['labels'], num_classes, 'validation')"
      ],
      "metadata": {
        "id": "CYCgXNjF1U60",
        "colab": {
          "base_uri": "https://localhost:8080/"
        },
        "outputId": "22ea4d87-104b-40e6-dbb5-7ef2ed4c85eb"
      },
      "execution_count": null,
      "outputs": [
        {
          "output_type": "stream",
          "name": "stderr",
          "text": [
            "Converting labels to one-hot tensors for training: 100%|██████████| 9520/9520 [00:00<00:00, 95345.12label/s]\n",
            "Converting labels to one-hot tensors for testing: 100%|██████████| 1386/1386 [00:00<00:00, 54970.60label/s]\n",
            "Converting labels to one-hot tensors for validation: 100%|██████████| 2688/2688 [00:00<00:00, 97266.77label/s]\n"
          ]
        }
      ]
    },
    {
      "cell_type": "code",
      "source": [
        "print(labels_train_tensor[532])\n",
        "print(loaded_data_dict['train']['labels'][532])"
      ],
      "metadata": {
        "id": "6bIoxeKkjOlv",
        "colab": {
          "base_uri": "https://localhost:8080/"
        },
        "outputId": "5a960f53-bdf4-4e7a-cb87-28ed95a81828"
      },
      "execution_count": null,
      "outputs": [
        {
          "output_type": "stream",
          "name": "stdout",
          "text": [
            "tensor([[0., 0., 1., 0., 0., 0., 0.]])\n",
            "2\n"
          ]
        }
      ]
    },
    {
      "cell_type": "code",
      "source": [
        "# Define loss function and optimizer\n",
        "criterion = nn.CrossEntropyLoss()\n",
        "optimizer = torch.optim.Adam(dgnn_model.parameters(), lr=0.005)"
      ],
      "metadata": {
        "id": "JkQx1q5uUAyq"
      },
      "execution_count": null,
      "outputs": []
    },
    {
      "cell_type": "code",
      "source": [
        "batch_size = 64 # Define your batch size\n",
        "\n",
        "# Assuming you have DataLoader for batching\n",
        "train_dataset = [Data(x=node_features_train[i], edge_index=train_edge_index[i], weight=train_edge_weight[i], y=labels_train_tensor[i])\n",
        "                 for i in range(len(pyg_graphs_train))]\n",
        "\n",
        "train_loader = DataLoader(train_dataset, batch_size=batch_size, shuffle=True, pin_memory=True)\n",
        "\n",
        "# Assuming you have DataLoader for batching\n",
        "valid_dataset = [Data(x=node_features_valid[i], edge_index=valid_edge_index[i], weight=valid_edge_weight[i], y=labels_valid_tensor[i])\n",
        "                 for i in range(len(pyg_graphs_valid))]\n",
        "\n",
        "valid_loader = DataLoader(valid_dataset, batch_size=batch_size, shuffle=True, pin_memory=True)"
      ],
      "metadata": {
        "id": "ULM9QMLgkQia"
      },
      "execution_count": null,
      "outputs": []
    },
    {
      "cell_type": "code",
      "source": [
        "device = torch.device('cuda' if torch.cuda.is_available() else 'cpu')\n",
        "dgnn_model = dgnn_model.to(device)"
      ],
      "metadata": {
        "id": "yOwjLH_CvgUD"
      },
      "execution_count": null,
      "outputs": []
    },
    {
      "cell_type": "code",
      "source": [
        "num_epochs = 43\n",
        "\n",
        "train_losses = []\n",
        "valid_losses = []\n",
        "\n",
        "for epoch in range(num_epochs):\n",
        "    # Training\n",
        "    dgnn_model.train()\n",
        "    total_loss = 0.0\n",
        "    correct_train = 0\n",
        "    total_train = 0\n",
        "\n",
        "    for data in train_loader:\n",
        "        data = data.to(device)  # Chuyển dữ liệu vào GPU\n",
        "        optimizer.zero_grad()\n",
        "        output = dgnn_model(data.x, data.edge_index, data.weight, batch=data.batch)\n",
        "        loss = criterion(output, data.y)\n",
        "        loss.backward()\n",
        "        optimizer.step()\n",
        "        total_loss += loss.item()\n",
        "\n",
        "        # Tính accuracy trong quá trình huấn luyện\n",
        "        _, predicted_train = torch.max(output, 1)\n",
        "        correct_train += (predicted_train == data.y.argmax(1)).sum().item()\n",
        "        total_train += data.y.size(0)\n",
        "\n",
        "    average_loss = total_loss / len(train_loader)\n",
        "    train_accuracy = correct_train / total_train\n",
        "\n",
        "    # Validation\n",
        "    dgnn_model.eval()  # Set the model to evaluation mode\n",
        "    total_valid_loss = 0.0\n",
        "    correct_valid = 0\n",
        "    total_valid = 0\n",
        "\n",
        "    with torch.no_grad():\n",
        "        for valid_data in valid_loader:\n",
        "            valid_data = valid_data.to(device)\n",
        "            valid_output = dgnn_model(valid_data.x, valid_data.edge_index, valid_data.weight, batch=valid_data.batch)\n",
        "            valid_loss = criterion(valid_output, valid_data.y)\n",
        "            total_valid_loss += valid_loss.item()\n",
        "\n",
        "            # Tính accuracy trên tập validation\n",
        "            _, predicted_valid = torch.max(valid_output, 1)\n",
        "            correct_valid += (predicted_valid == valid_data.y.argmax(1)).sum().item()\n",
        "            total_valid += valid_data.y.size(0)\n",
        "\n",
        "    average_valid_loss = total_valid_loss / len(valid_loader)\n",
        "    valid_accuracy = correct_valid / total_valid\n",
        "    train_losses.append(average_loss)\n",
        "    valid_losses.append(average_valid_loss)\n",
        "\n",
        "    print(f\"Epoch {epoch + 1}/{num_epochs}, Train Loss: {average_loss}, Train Accuracy: {train_accuracy}, Valid Loss: {average_valid_loss}, Valid Accuracy: {valid_accuracy}\")\n"
      ],
      "metadata": {
        "colab": {
          "base_uri": "https://localhost:8080/"
        },
        "id": "LdA6qDX2UMaA",
        "outputId": "d0bd76aa-2070-4a6e-95df-87fc03abd631"
      },
      "execution_count": null,
      "outputs": [
        {
          "output_type": "stream",
          "name": "stdout",
          "text": [
            "Epoch 1/43, Train Loss: 1.7998594797697642, Train Accuracy: 0.2976890756302521, Valid Loss: 1.7228665493783497, Valid Accuracy: 0.33705357142857145\n",
            "Epoch 2/43, Train Loss: 1.478978674683795, Train Accuracy: 0.466281512605042, Valid Loss: 1.3220015026274181, Valid Accuracy: 0.5022321428571429\n",
            "Epoch 3/43, Train Loss: 1.225621771092383, Train Accuracy: 0.567436974789916, Valid Loss: 1.1047146930581047, Valid Accuracy: 0.6011904761904762\n",
            "Epoch 4/43, Train Loss: 1.0701802628952384, Train Accuracy: 0.6176470588235294, Valid Loss: 0.8775476160503569, Valid Accuracy: 0.65625\n",
            "Epoch 5/43, Train Loss: 0.9606980933439011, Train Accuracy: 0.6422268907563026, Valid Loss: 1.010017217624755, Valid Accuracy: 0.6063988095238095\n",
            "Epoch 6/43, Train Loss: 0.8426354013433393, Train Accuracy: 0.6747899159663866, Valid Loss: 0.8259470008668446, Valid Accuracy: 0.6729910714285714\n",
            "Epoch 7/43, Train Loss: 0.802877060919, Train Accuracy: 0.6800420168067227, Valid Loss: 0.7555326549779802, Valid Accuracy: 0.71875\n",
            "Epoch 8/43, Train Loss: 0.7186894328802224, Train Accuracy: 0.718172268907563, Valid Loss: 0.8343884164378756, Valid Accuracy: 0.7049851190476191\n",
            "Epoch 9/43, Train Loss: 0.7425776982067416, Train Accuracy: 0.7099789915966387, Valid Loss: 0.7551940927902857, Valid Accuracy: 0.7362351190476191\n",
            "Epoch 10/43, Train Loss: 0.6906171147055273, Train Accuracy: 0.7425420168067227, Valid Loss: 0.7876976728439331, Valid Accuracy: 0.7566964285714286\n",
            "Epoch 11/43, Train Loss: 0.6074400970199764, Train Accuracy: 0.7669117647058824, Valid Loss: 0.6616673540501368, Valid Accuracy: 0.7689732142857143\n",
            "Epoch 12/43, Train Loss: 0.5364718269181732, Train Accuracy: 0.8017857142857143, Valid Loss: 0.5196180017221541, Valid Accuracy: 0.8139880952380952\n",
            "Epoch 13/43, Train Loss: 0.48304598763485085, Train Accuracy: 0.8210084033613445, Valid Loss: 0.5241141823076066, Valid Accuracy: 0.8225446428571429\n",
            "Epoch 14/43, Train Loss: 0.45987768701258924, Train Accuracy: 0.8258403361344537, Valid Loss: 0.463571333814235, Valid Accuracy: 0.8549107142857143\n",
            "Epoch 15/43, Train Loss: 0.4108637237308809, Train Accuracy: 0.8492647058823529, Valid Loss: 0.4535524014915739, Valid Accuracy: 0.8284970238095238\n",
            "Epoch 16/43, Train Loss: 0.4000843787353311, Train Accuracy: 0.8534663865546218, Valid Loss: 0.41792602837085724, Valid Accuracy: 0.8578869047619048\n",
            "Epoch 17/43, Train Loss: 0.8711939796105327, Train Accuracy: 0.7034663865546219, Valid Loss: 0.47073160395735786, Valid Accuracy: 0.8389136904761905\n",
            "Epoch 18/43, Train Loss: 0.45979444832609806, Train Accuracy: 0.8304621848739496, Valid Loss: 0.5075776506037939, Valid Accuracy: 0.8534226190476191\n",
            "Epoch 19/43, Train Loss: 0.38698391116305486, Train Accuracy: 0.8543067226890756, Valid Loss: 0.5896165271600088, Valid Accuracy: 0.8314732142857143\n",
            "Epoch 20/43, Train Loss: 0.35894125940015653, Train Accuracy: 0.8653361344537815, Valid Loss: 0.4989304343859355, Valid Accuracy: 0.8359375\n",
            "Epoch 21/43, Train Loss: 0.3263871957791732, Train Accuracy: 0.8792016806722689, Valid Loss: 0.5112808517047337, Valid Accuracy: 0.8716517857142857\n",
            "Epoch 22/43, Train Loss: 0.3119882422205586, Train Accuracy: 0.8814075630252101, Valid Loss: 0.5142931285358611, Valid Accuracy: 0.8683035714285714\n",
            "Epoch 23/43, Train Loss: 0.3017743807911073, Train Accuracy: 0.8886554621848739, Valid Loss: 0.5287300256036577, Valid Accuracy: 0.8515625\n",
            "Epoch 24/43, Train Loss: 0.27469694849428716, Train Accuracy: 0.8974789915966387, Valid Loss: 0.5103298812395051, Valid Accuracy: 0.8664434523809523\n",
            "Epoch 25/43, Train Loss: 0.2774734007032126, Train Accuracy: 0.898109243697479, Valid Loss: 0.4243642994690509, Valid Accuracy: 0.8850446428571429\n",
            "Epoch 26/43, Train Loss: 0.3237046559385005, Train Accuracy: 0.8783613445378151, Valid Loss: 0.504428315730322, Valid Accuracy: 0.8526785714285714\n",
            "Epoch 27/43, Train Loss: 0.2923014924030176, Train Accuracy: 0.8939075630252101, Valid Loss: 0.45470622430245083, Valid Accuracy: 0.8604910714285714\n",
            "Epoch 28/43, Train Loss: 0.29400626374971145, Train Accuracy: 0.8896008403361344, Valid Loss: 0.487086574946131, Valid Accuracy: 0.8705357142857143\n",
            "Epoch 29/43, Train Loss: 0.2257029189159406, Train Accuracy: 0.9172268907563025, Valid Loss: 0.47405941003844854, Valid Accuracy: 0.875\n",
            "Epoch 30/43, Train Loss: 0.31476396522265954, Train Accuracy: 0.8821428571428571, Valid Loss: 0.45560428500175476, Valid Accuracy: 0.8404017857142857\n",
            "Epoch 31/43, Train Loss: 0.22877327322759886, Train Accuracy: 0.9158613445378151, Valid Loss: 0.4846147263333911, Valid Accuracy: 0.8541666666666666\n",
            "Epoch 32/43, Train Loss: 0.24556765410324072, Train Accuracy: 0.9117647058823529, Valid Loss: 0.4315070694401151, Valid Accuracy: 0.8645833333333334\n",
            "Epoch 33/43, Train Loss: 0.23644511571666538, Train Accuracy: 0.9131302521008403, Valid Loss: 0.49994463260684696, Valid Accuracy: 0.8664434523809523\n",
            "Epoch 34/43, Train Loss: 0.21314651611567342, Train Accuracy: 0.9226890756302522, Valid Loss: 0.5263648089908418, Valid Accuracy: 0.8865327380952381\n",
            "Epoch 35/43, Train Loss: 0.21534723133448785, Train Accuracy: 0.9198529411764705, Valid Loss: 0.5280743363712516, Valid Accuracy: 0.8831845238095238\n",
            "Epoch 36/43, Train Loss: 0.18400380417904597, Train Accuracy: 0.9357142857142857, Valid Loss: 0.5394281549822717, Valid Accuracy: 0.8783482142857143\n",
            "Epoch 37/43, Train Loss: 0.1597189789250393, Train Accuracy: 0.9423319327731092, Valid Loss: 0.50327232586486, Valid Accuracy: 0.8909970238095238\n",
            "Epoch 38/43, Train Loss: 0.1719943023968063, Train Accuracy: 0.9415966386554622, Valid Loss: 0.445184681919359, Valid Accuracy: 0.8924851190476191\n",
            "Epoch 39/43, Train Loss: 0.1947226766371887, Train Accuracy: 0.9301470588235294, Valid Loss: 0.5034999471335184, Valid Accuracy: 0.8768601190476191\n",
            "Epoch 40/43, Train Loss: 0.19658876110443332, Train Accuracy: 0.930672268907563, Valid Loss: 0.690529027510257, Valid Accuracy: 0.8697916666666666\n",
            "Epoch 41/43, Train Loss: 0.15670698851146955, Train Accuracy: 0.9433823529411764, Valid Loss: 0.44018318149305524, Valid Accuracy: 0.8917410714285714\n",
            "Epoch 42/43, Train Loss: 0.1737470125479486, Train Accuracy: 0.9366596638655462, Valid Loss: 0.5236177174817949, Valid Accuracy: 0.8843005952380952\n",
            "Epoch 43/43, Train Loss: 0.15960541742560047, Train Accuracy: 0.9451680672268907, Valid Loss: 0.49885530450514387, Valid Accuracy: 0.8887648809523809\n"
          ]
        }
      ]
    },
    {
      "cell_type": "code",
      "source": [
        "import matplotlib.pyplot as plt\n",
        "# Vẽ biểu đồ\n",
        "plt.plot(train_losses, label='Train Loss')\n",
        "plt.plot(valid_losses, label='Valid Loss')\n",
        "plt.xlabel('Epoch')\n",
        "plt.ylabel('Loss')\n",
        "plt.legend()\n",
        "plt.show()"
      ],
      "metadata": {
        "id": "I8zKCUnp4t9D",
        "colab": {
          "base_uri": "https://localhost:8080/",
          "height": 449
        },
        "outputId": "9a7b9d07-4564-4593-f203-875f8d7ea0f9"
      },
      "execution_count": null,
      "outputs": [
        {
          "output_type": "display_data",
          "data": {
            "text/plain": [
              "<Figure size 640x480 with 1 Axes>"
            ],
            "image/png": "[encoded data removed]"
          },
          "metadata": {}
        }
      ]
    },
    {
      "cell_type": "code",
      "source": [
        "# After training\n",
        "torch.save(dgnn_model.state_dict(), '/content/drive/MyDrive/emotion_data_preprocessed/save_models/model5.pth')"
      ],
      "metadata": {
        "id": "ilScSu_lLSkB"
      },
      "execution_count": null,
      "outputs": []
    },
    {
      "cell_type": "code",
      "source": [
        "# Load the model architecture\n",
        "loaded_model = DirectionalGraphNeuralNetwork(num_node_features, num_edge_features, num_classes)\n",
        "\n",
        "# Load the state dictionary\n",
        "loaded_model.load_state_dict(torch.load('/content/drive/MyDrive/emotion_data_preprocessed/save_models/model5.pth'))\n",
        "\n",
        "# Put the model on the device (CPU or GPU)\n",
        "loaded_model = loaded_model.to(device)\n",
        "\n",
        "# Set the model in evaluation mode\n",
        "loaded_model.eval()"
      ],
      "metadata": {
        "id": "KPMkRUjF5nw0",
        "colab": {
          "base_uri": "https://localhost:8080/"
        },
        "outputId": "16147296-2de6-423b-c26c-4e24b24f5ab4"
      },
      "execution_count": null,
      "outputs": [
        {
          "output_type": "execute_result",
          "data": {
            "text/plain": [
              "DirectionalGraphNeuralNetwork(\n",
              "  (block1): DirectionalGraphNeuralNetworkBlock(\n",
              "    (graph_conv): DirectionalGraphConvolution(\n",
              "      (conv): GCNConv(1, 64)\n",
              "    )\n",
              "  )\n",
              "  (block2): DirectionalGraphNeuralNetworkBlock(\n",
              "    (graph_conv): DirectionalGraphConvolution(\n",
              "      (conv): GCNConv(64, 64)\n",
              "    )\n",
              "  )\n",
              "  (block3): DirectionalGraphNeuralNetworkBlock(\n",
              "    (graph_conv): DirectionalGraphConvolution(\n",
              "      (conv): GCNConv(64, 128)\n",
              "    )\n",
              "  )\n",
              "  (block4): DirectionalGraphNeuralNetworkBlock(\n",
              "    (graph_conv): DirectionalGraphConvolution(\n",
              "      (conv): GCNConv(128, 128)\n",
              "    )\n",
              "  )\n",
              "  (block5): DirectionalGraphNeuralNetworkBlock(\n",
              "    (graph_conv): DirectionalGraphConvolution(\n",
              "      (conv): GCNConv(128, 256)\n",
              "    )\n",
              "  )\n",
              "  (block6): DirectionalGraphNeuralNetworkBlock(\n",
              "    (graph_conv): DirectionalGraphConvolution(\n",
              "      (conv): GCNConv(256, 256)\n",
              "    )\n",
              "  )\n",
              "  (block7): DirectionalGraphNeuralNetworkBlock(\n",
              "    (graph_conv): DirectionalGraphConvolution(\n",
              "      (conv): GCNConv(256, 512)\n",
              "    )\n",
              "  )\n",
              "  (block8): DirectionalGraphNeuralNetworkBlock(\n",
              "    (graph_conv): DirectionalGraphConvolution(\n",
              "      (conv): GCNConv(512, 512)\n",
              "    )\n",
              "  )\n",
              "  (fc1): Linear(in_features=512, out_features=128, bias=True)\n",
              "  (dropout): Dropout(p=0.5, inplace=False)\n",
              "  (fc2): Linear(in_features=128, out_features=7, bias=True)\n",
              ")"
            ]
          },
          "metadata": {},
          "execution_count": 130
        }
      ]
    },
    {
      "cell_type": "code",
      "source": [
        "# Assuming you have DataLoader for batching\n",
        "test_dataset = [Data(x=node_features_test[i], edge_index=test_edge_index[i], weight=test_edge_weight[i], y=labels_test_tensor[i])\n",
        "                 for i in range(len(pyg_graphs_test))]\n",
        "\n",
        "test_loader = DataLoader(test_dataset, batch_size=batch_size, shuffle=True, pin_memory=True)"
      ],
      "metadata": {
        "id": "pJpc50cv4Br5"
      },
      "execution_count": null,
      "outputs": []
    },
    {
      "cell_type": "code",
      "source": [
        "from sklearn.metrics import confusion_matrix\n",
        "import seaborn as sns"
      ],
      "metadata": {
        "id": "Jyyilepd4psv"
      },
      "execution_count": null,
      "outputs": []
    },
    {
      "cell_type": "code",
      "source": [
        "# Dự đoán trên tập dữ liệu kiểm thử\n",
        "all_predictions = []\n",
        "all_labels = []\n",
        "\n",
        "with torch.no_grad():\n",
        "    for test_data in test_loader:\n",
        "        test_data = test_data.to(device)\n",
        "        output = loaded_model(test_data.x, test_data.edge_index, test_data.weight, batch=test_data.batch)\n",
        "        predictions = torch.argmax(output, dim=1).cpu().numpy()\n",
        "        labels = test_data.y.cpu().numpy()\n",
        "        all_predictions.extend(predictions)\n",
        "        all_labels.extend(labels)"
      ],
      "metadata": {
        "id": "ZETU91jt7HX9"
      },
      "execution_count": null,
      "outputs": []
    },
    {
      "cell_type": "code",
      "source": [
        "# Convert to numpy arrays\n",
        "all_labels = np.array(all_labels)\n",
        "all_predictions = np.array(all_predictions)\n",
        "\n",
        "# If all_labels is one-hot encoded, convert to single-class labels\n",
        "if len(all_labels.shape) > 1:\n",
        "    all_labels = np.argmax(all_labels, axis=1)\n",
        "\n",
        "# Now you can compute the confusion matrix\n",
        "conf_matrix = confusion_matrix(all_labels, all_predictions)"
      ],
      "metadata": {
        "id": "Z6whoJsN-a7u"
      },
      "execution_count": null,
      "outputs": []
    },
    {
      "cell_type": "code",
      "source": [
        "# Tính confusion matrix\n",
        "conf_matrix = confusion_matrix(all_labels, all_predictions)"
      ],
      "metadata": {
        "id": "-eEcAZLt-M2Y"
      },
      "execution_count": null,
      "outputs": []
    },
    {
      "cell_type": "code",
      "source": [
        "import matplotlib.pyplot as plt\n",
        "# Vẽ confusion matrix bằng heatmap\n",
        "class_names = [str(i) for i in range(num_classes)]\n",
        "plt.figure(figsize=(8, 6))\n",
        "sns.heatmap(conf_matrix, annot=True, fmt='d', cmap='Blues', xticklabels=class_names, yticklabels=class_names)\n",
        "plt.xlabel('Predicted')\n",
        "plt.ylabel('Actual')\n",
        "plt.title('Confusion Matrix')\n",
        "plt.show()"
      ],
      "metadata": {
        "id": "9sccMP9SAI8W",
        "colab": {
          "base_uri": "https://localhost:8080/",
          "height": 564
        },
        "outputId": "c57f4bb4-99c1-43b4-f484-1cae3b603e57"
      },
      "execution_count": null,
      "outputs": [
        {
          "output_type": "display_data",
          "data": {
            "text/plain": [
              "<Figure size 800x600 with 2 Axes>"
            ],
            "image/png": "[encoded data removed]"
          },
          "metadata": {}
        }
      ]
    },
    {
      "cell_type": "code",
      "source": [
        "from sklearn.metrics import accuracy_score, precision_score, recall_score, f1_score\n",
        "\n",
        "# Calculate accuracy\n",
        "accuracy = accuracy_score(all_labels, all_predictions)\n",
        "print(f'Accuracy: {accuracy}')\n",
        "\n",
        "# Calculate precision\n",
        "precision = precision_score(all_labels, all_predictions, average='weighted')\n",
        "print(f'Precision: {precision}')\n",
        "\n",
        "# Calculate recall\n",
        "recall = recall_score(all_labels, all_predictions, average='weighted')\n",
        "print(f'Recall: {recall}')\n",
        "\n",
        "# Calculate F1 score\n",
        "f1 = f1_score(all_labels, all_predictions, average='weighted')\n",
        "print(f'F1 Score: {f1}')"
      ],
      "metadata": {
        "id": "u4jrPUc1AyRe",
        "colab": {
          "base_uri": "https://localhost:8080/"
        },
        "outputId": "7c245ddd-ad85-48ec-c2df-372addd7d4f9"
      },
      "execution_count": null,
      "outputs": [
        {
          "output_type": "stream",
          "name": "stdout",
          "text": [
            "Accuracy: 0.8888888888888888\n",
            "Precision: 0.8987792394022122\n",
            "Recall: 0.8888888888888888\n",
            "F1 Score: 0.8884363692247096\n"
          ]
        }
      ]
    }
  ]
}